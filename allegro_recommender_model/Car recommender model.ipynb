{
 "cells": [
  {
   "cell_type": "code",
   "execution_count": 28,
   "metadata": {},
   "outputs": [],
   "source": [
    "import random\n",
    "from nltk.tokenize import RegexpTokenizer\n",
    "import morfeusz\n",
    "from gensim import corpora, models, similarities, matutils\n",
    "import numpy as np\n",
    "\n",
    "def _load_stopwords():\n",
    "    stopwords = []\n",
    "    with open('stopwords-pl', 'r') as stopwords_file:\n",
    "        stopwords = stopwords_file.readlines()\n",
    "    stopwords = [word.strip() for word in stopwords]\n",
    "    return set(stopwords)\n",
    "\n",
    "stopwords = _load_stopwords()\n",
    "\n",
    "\n",
    "def find_similar(ad_hyperlinks, ads_number):\n",
    "    dictionary, LSI_model, tf_idf_model, similarity_matrix = _prepare_vector_space_model()\n",
    "    db = _ads_database.get_ads()\n",
    "    results = []\n",
    "    for link in ad_hyperlinks:\n",
    "        ad_row = db.index.get_loc(link)\n",
    "        similarities = similarity_matrix.similarity_by_id(ad_row)\n",
    "        results.append(similarities)\n",
    "\n",
    "    result = sum(results)\n",
    "    # negation to sort in descending order\n",
    "    best_fit = (-result).argsort()[:ads_number]\n",
    "\n",
    "    best_fit_links = []\n",
    "    for i in best_fit:\n",
    "        best_fit_links.append(db.iloc[i])\n",
    "    return best_fit_links\n",
    "\n",
    "def _prepare_vector_space_model():\n",
    "    ads = _ads_database.get_ads()\n",
    "    ads_data = list(ads['description'])\n",
    "    ads_data = _tokenize(ads_data)\n",
    "    ads_data = _to_lowercase(ads_data)\n",
    "    ads_data = _remove_stopwords(ads_data)\n",
    "    ads_data = _lemmatize(ads_data)\n",
    "    dictionary = _prepare_dictionary(ads_data)\n",
    "    corpus = _prepare_corpus(ads_data, dictionary)\n",
    "    tf_idf_model = _prepare_tf_idf_model(corpus)\n",
    "    tf_idf_corpus = _prepare_tf_idf_corpus(corpus, tf_idf_model)\n",
    "    LSI_model = _prepare_LSI_model(tf_idf_corpus, dictionary)\n",
    "    similarity_matrix = _prepare_similarity_matrix(LSI_model,\n",
    "                                                        tf_idf_corpus,\n",
    "                                                        ads_data)\n",
    "    return dictionary, LSI_model, tf_idf_model, similarity_matrix\n",
    "\n",
    "\n",
    "def _tokenize(texts):\n",
    "    '''Turns documents into alphabetic-only tokens'''\n",
    "    tokenizer = RegexpTokenizer(r'[a-zA-ZĄąĆćĘęŁłŃńÓóŚśŻżŹź]+')\n",
    "\n",
    "    result = []\n",
    "    for text in texts:\n",
    "        try:\n",
    "            result.append(tokenizer.tokenize(text))\n",
    "        except:\n",
    "            #print(text)\n",
    "            continue\n",
    "\n",
    "    return result\n",
    "\n",
    "def _to_lowercase(texts):\n",
    "    result = []\n",
    "    for text in texts:\n",
    "        result.append([word.lower() for word in text])\n",
    "\n",
    "    return result\n",
    "\n",
    "def _remove_stopwords(texts):\n",
    "    result = []\n",
    "    for text in texts:\n",
    "        result.append([word for word in text\n",
    "                       if word not in stopwords])\n",
    "\n",
    "    return result\n",
    "\n",
    "def _lemmatize(texts):\n",
    "    result = []\n",
    "    for text in texts:\n",
    "        text_lemmas = []\n",
    "\n",
    "        for word in text:\n",
    "            lemma = morfeusz.analyse(word, expand_tags=False)[0][0][1]\n",
    "            # morfeusz returns None if has no clue, what the word he got\n",
    "            if lemma:\n",
    "                text_lemmas.append(lemma)\n",
    "\n",
    "        result.append(text_lemmas)\n",
    "\n",
    "    return result\n",
    "\n",
    "def _prepare_dictionary(texts):\n",
    "    return corpora.Dictionary(texts)\n",
    "\n",
    "def _prepare_corpus(texts, dictionary):\n",
    "    return [dictionary.doc2bow(text) for text in texts]\n",
    "\n",
    "def _prepare_tf_idf_model(corpus):\n",
    "    return models.TfidfModel(corpus)\n",
    "\n",
    "def _prepare_tf_idf_corpus(corpus, tf_idf_model):\n",
    "    return tf_idf_model[corpus]\n",
    "\n",
    "def _prepare_LSI_model(corpus, dictionary):\n",
    "    return models.LsiModel(corpus, id2word=dictionary,\n",
    "                           num_topics=30)\n",
    "\n",
    "def _prepare_similarity_matrix(model, corpus, texts):\n",
    "    terms = set()\n",
    "    for text in texts:\n",
    "        terms |= set(text)\n",
    "    terms_number = len(terms)\n",
    "\n",
    "    return similarities.Similarity(output_prefix='sim_matrix',\n",
    "                                   corpus=model[corpus],\n",
    "                                   num_features=terms_number)"
   ]
  },
  {
   "cell_type": "code",
   "execution_count": 29,
   "metadata": {},
   "outputs": [],
   "source": [
    "import fnmatch\n",
    "import os\n",
    "\n",
    "offer_filenames =[]\n",
    "\n",
    "for file in os.listdir('.'):\n",
    "    if fnmatch.fnmatch(file, 'tagged_offers*pickle'):\n",
    "        offer_filenames.append(file)"
   ]
  },
  {
   "cell_type": "code",
   "execution_count": 30,
   "metadata": {},
   "outputs": [],
   "source": [
    "import pickle\n",
    "\n",
    "offer_batches = []\n",
    "\n",
    "for offer_batch in offer_filenames:\n",
    "    with open(offer_batch, 'rb') as offer_batch_pickle:\n",
    "        offer_batches.append(pickle.load(offer_batch_pickle))"
   ]
  },
  {
   "cell_type": "code",
   "execution_count": 31,
   "metadata": {},
   "outputs": [],
   "source": [
    "offers = set()"
   ]
  },
  {
   "cell_type": "code",
   "execution_count": 32,
   "metadata": {},
   "outputs": [],
   "source": [
    "for batch in offer_batches:\n",
    "    offers |= set(batch.values())"
   ]
  },
  {
   "cell_type": "code",
   "execution_count": 33,
   "metadata": {},
   "outputs": [
    {
     "data": {
      "text/plain": [
       "7840"
      ]
     },
     "execution_count": 33,
     "metadata": {},
     "output_type": "execute_result"
    }
   ],
   "source": [
    "len(offers)"
   ]
  },
  {
   "cell_type": "code",
   "execution_count": 34,
   "metadata": {
    "scrolled": true
   },
   "outputs": [],
   "source": [
    "ads_data = list(offers)"
   ]
  },
  {
   "cell_type": "code",
   "execution_count": 35,
   "metadata": {},
   "outputs": [],
   "source": [
    "ads_data = _tokenize(ads_data)\n",
    "ads_data = _to_lowercase(ads_data)\n",
    "ads_data = _remove_stopwords(ads_data)\n",
    "ads_data = _lemmatize(ads_data)\n",
    "dictionary = _prepare_dictionary(ads_data) "
   ]
  },
  {
   "cell_type": "code",
   "execution_count": 37,
   "metadata": {},
   "outputs": [
    {
     "name": "stdout",
     "output_type": "stream",
     "text": [
      "Liczba słów w słowniku modelu: 10027\n"
     ]
    }
   ],
   "source": [
    "terms_number = len(list(dictionary.values()))\n",
    "dictionary.save('allegro_dictionary')\n",
    "print(\"Liczba słów w słowniku modelu: \" + str(terms_number))"
   ]
  },
  {
   "cell_type": "code",
   "execution_count": 38,
   "metadata": {},
   "outputs": [],
   "source": [
    "corpus = _prepare_corpus(ads_data, dictionary)\n",
    "tf_idf_model = _prepare_tf_idf_model(corpus)\n",
    "tf_idf_corpus = _prepare_tf_idf_corpus(corpus, tf_idf_model)"
   ]
  },
  {
   "cell_type": "code",
   "execution_count": 39,
   "metadata": {},
   "outputs": [],
   "source": [
    "tf_idf_model.save('allegro_tf_idf_model')"
   ]
  },
  {
   "cell_type": "code",
   "execution_count": 40,
   "metadata": {},
   "outputs": [],
   "source": [
    "import gensim\n",
    "\n",
    "dense_matrix_corpus = gensim.matutils.corpus2dense(tf_idf_corpus, num_terms=terms_number)"
   ]
  },
  {
   "cell_type": "code",
   "execution_count": 41,
   "metadata": {},
   "outputs": [
    {
     "data": {
      "text/plain": [
       "(10027, 7840)"
      ]
     },
     "execution_count": 41,
     "metadata": {},
     "output_type": "execute_result"
    }
   ],
   "source": [
    "dense_matrix_corpus.shape"
   ]
  },
  {
   "cell_type": "code",
   "execution_count": 42,
   "metadata": {},
   "outputs": [],
   "source": [
    "s = np.linalg.svd(dense_matrix_corpus, full_matrices=False, compute_uv=False)"
   ]
  },
  {
   "cell_type": "code",
   "execution_count": 44,
   "metadata": {},
   "outputs": [
    {
     "data": {
      "text/plain": [
       "7840"
      ]
     },
     "execution_count": 44,
     "metadata": {},
     "output_type": "execute_result"
    }
   ],
   "source": [
    "len(s)"
   ]
  },
  {
   "cell_type": "code",
   "execution_count": 47,
   "metadata": {},
   "outputs": [],
   "source": [
    "import matplotlib.pyplot as plt"
   ]
  },
  {
   "cell_type": "code",
   "execution_count": 49,
   "metadata": {
    "scrolled": true
   },
   "outputs": [
    {
     "data": {
      "image/png": "[encoded data removed]",
      "text/plain": [
       "<Figure size 432x288 with 1 Axes>"
      ]
     },
     "metadata": {},
     "output_type": "display_data"
    }
   ],
   "source": [
    "plt.plot(s)\n",
    "plt.xlabel('Numer wartości osobliwej')\n",
    "plt.ylabel('Wartość')\n",
    "plt.draw()"
   ]
  },
  {
   "cell_type": "code",
   "execution_count": 48,
   "metadata": {},
   "outputs": [
    {
     "data": {
      "text/plain": [
       "[<matplotlib.lines.Line2D at 0x7efe2115dcc0>]"
      ]
     },
     "execution_count": 48,
     "metadata": {},
     "output_type": "execute_result"
    },
    {
     "data": {
      "image/png": "[encoded data removed]",
      "text/plain": [
       "<Figure size 432x288 with 1 Axes>"
      ]
     },
     "metadata": {},
     "output_type": "display_data"
    }
   ],
   "source": [
    "plt.plot(s[:300])"
   ]
  },
  {
   "cell_type": "code",
   "execution_count": 178,
   "metadata": {},
   "outputs": [],
   "source": [
    "MODEL_TOPICS = 300"
   ]
  },
  {
   "cell_type": "code",
   "execution_count": 179,
   "metadata": {},
   "outputs": [],
   "source": [
    "lsi_model = models.LsiModel(corpus, id2word=dictionary, num_topics=MODEL_TOPICS)\n",
    "lsi_model.save('allegro_model_' + str(MODEL_TOPICS) + '_topics')"
   ]
  }
 ],
 "metadata": {
  "kernelspec": {
   "display_name": "Python 3",
   "language": "python",
   "name": "python3"
  },
  "language_info": {
   "codemirror_mode": {
    "name": "ipython",
    "version": 3
   },
   "file_extension": ".py",
   "mimetype": "text/x-python",
   "name": "python",
   "nbconvert_exporter": "python",
   "pygments_lexer": "ipython3",
   "version": "3.6.5"
  }
 },
 "nbformat": 4,
 "nbformat_minor": 2
}
